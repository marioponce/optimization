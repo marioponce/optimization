{
 "cells": [
  {
   "cell_type": "markdown",
   "id": "2faf05bc",
   "metadata": {},
   "source": [
    "### Ackley"
   ]
  },
  {
   "cell_type": "code",
   "execution_count": 12,
   "id": "f66fc3e4",
   "metadata": {},
   "outputs": [],
   "source": [
    "from test_function import ackley, bukin"
   ]
  },
  {
   "cell_type": "code",
   "execution_count": 11,
   "id": "47425f21",
   "metadata": {},
   "outputs": [
    {
     "name": "stdout",
     "output_type": "stream",
     "text": [
      "4.440892098500626e-16\n"
     ]
    }
   ],
   "source": [
    "print(ackley([0,0,0]))\n",
    "    # print(bukin([-10,1]))\n",
    "    # print(cross_in_tray([1.3491,-1.3491]))\n",
    "    # print(drop_wave([0,0]))\n",
    "    # print(eggholder([512, 404.2319]))\n",
    "    # print(griewank([0,0,0,0]))\n",
    "    # print(holder([8.05502,9.66459]))\n",
    "    # print(langermann([8.05502,9.66459]))\n",
    "    # print(levy([1,1]))\n",
    "    # print(levy13([1,1]))\n",
    "    # print(rastrigin([0,0]))\n",
    "    # print(schaffer2([0,0]))\n",
    "    # print(schaffer4([0,0]))\n",
    "    # print(schwefel([420.9687, 420.9687]))\n",
    "    # print(shubert([0,0]))"
   ]
  },
  {
   "cell_type": "code",
   "execution_count": null,
   "id": "f7f31199",
   "metadata": {},
   "outputs": [],
   "source": []
  },
  {
   "cell_type": "code",
   "execution_count": null,
   "id": "5d11dd69",
   "metadata": {},
   "outputs": [],
   "source": []
  }
 ],
 "metadata": {
  "kernelspec": {
   "display_name": "Python 3 (ipykernel)",
   "language": "python",
   "name": "python3"
  },
  "language_info": {
   "codemirror_mode": {
    "name": "ipython",
    "version": 3
   },
   "file_extension": ".py",
   "mimetype": "text/x-python",
   "name": "python",
   "nbconvert_exporter": "python",
   "pygments_lexer": "ipython3",
   "version": "3.8.10"
  }
 },
 "nbformat": 4,
 "nbformat_minor": 5
}
